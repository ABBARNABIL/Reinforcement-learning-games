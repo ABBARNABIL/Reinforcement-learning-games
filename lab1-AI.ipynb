{
 "cells": [
  {
   "cell_type": "markdown",
   "metadata": {},
   "source": []
  },
  {
   "cell_type": "markdown",
   "metadata": {},
   "source": [
    "1D first example"
   ]
  },
  {
   "cell_type": "code",
   "execution_count": 17,
   "metadata": {
    "collapsed": true,
    "pycharm": {
     "name": "#%%\n"
    }
   },
   "outputs": [],
   "source": [
    "import numpy as np"
   ]
  },
  {
   "cell_type": "code",
   "execution_count": 18,
   "metadata": {
    "pycharm": {
     "name": "#%%\n"
    }
   },
   "outputs": [
    {
     "name": "stdout",
     "output_type": "stream",
     "text": [
      "[[0. 0.]\n",
      " [0. 0.]\n",
      " [0. 0.]\n",
      " [0. 0.]\n",
      " [0. 0.]\n",
      " [0. 0.]]\n"
     ]
    }
   ],
   "source": [
    "#define the shape of the environment (i.e., its states)\n",
    "environment_shape = 6\n",
    "\n",
    "\n",
    "#Create a 2D numpy array to hold the current Q-values for each state and action pair: Q(s, a)\n",
    "#each state (see next cell for a description of possible actions).\n",
    "#The value of each (state, action) pair is initialized to 0.\n",
    "q_values = np.zeros((environment_shape,2))\n",
    "print(q_values)"
   ]
  },
  {
   "cell_type": "code",
   "execution_count": 19,
   "metadata": {
    "pycharm": {
     "name": "#%%\n"
    }
   },
   "outputs": [],
   "source": [
    "#define actions\n",
    "#numeric action codes: 0 = right , 1 = left\n",
    "actions = ['right','left']"
   ]
  },
  {
   "cell_type": "code",
   "execution_count": 20,
   "metadata": {
    "pycharm": {
     "name": "#%%\n"
    }
   },
   "outputs": [
    {
     "name": "stdout",
     "output_type": "stream",
     "text": [
      "[-1.   -0.01 -0.01 -0.01 -0.01  1.  ]\n"
     ]
    }
   ],
   "source": [
    "#Create a 1D numpy array to hold the rewards for each state.\n",
    "rewards = np.full(6, -0.01)\n",
    "rewards[0] = -1. #set the reward for trap to -1\n",
    "rewards[5] = 1. #set the reward for goal to 1\n",
    "\n",
    "print(rewards)"
   ]
  },
  {
   "cell_type": "code",
   "execution_count": 21,
   "metadata": {
    "pycharm": {
     "name": "#%%\n"
    }
   },
   "outputs": [],
   "source": [
    "#define a function that determines if the specified location is a terminal state\n",
    "def is_terminal_state(current_index):\n",
    "  if rewards[current_index] == -0.01:\n",
    "    return False\n",
    "  else:\n",
    "    return True\n",
    "\n",
    "\n",
    "#define an epsilon greedy algorithm that will choose which action to take next (i.e., where to move next)\n",
    "def get_next_action(current_index, epsilon):\n",
    "  #if a randomly chosen value between 0 and 1 is less than epsilon,\n",
    "  #then choose the most promising value from the Q-table for this state.\n",
    "  if np.random.random() < epsilon:\n",
    "    return np.argmax(q_values[current_index])\n",
    "  else: #choose a random action\n",
    "    return np.random.randint(2)\n",
    "\n",
    "#define a function that will get the next location based on the chosen action\n",
    "def get_next_location(current_index, action_index):\n",
    "  new_index = current_index\n",
    "  if actions[action_index] == 'right' and current_index > 0:\n",
    "    new_index -= 1\n",
    "  elif actions[action_index] == 'left' and current_index < 5:\n",
    "    new_index += 1\n",
    "  return new_index\n",
    "\n",
    "\n",
    "def get_shortest_path(start_player_index):\n",
    "  if is_terminal_state(start_player_index):\n",
    "    return []\n",
    "  else:\n",
    "    current_player_index = start_player_index\n",
    "    shortest_path = []\n",
    "    shortest_path.append([current_player_index])\n",
    "    while not is_terminal_state(current_player_index):\n",
    "      action_index = get_next_action( current_player_index, 1.)\n",
    "      current_player_index = get_next_location(current_player_index, action_index)\n",
    "      shortest_path.append([current_player_index])\n",
    "    return shortest_path"
   ]
  },
  {
   "cell_type": "code",
   "execution_count": 22,
   "metadata": {
    "pycharm": {
     "name": "#%%\n"
    }
   },
   "outputs": [
    {
     "name": "stdout",
     "output_type": "stream",
     "text": [
      "[[ 0.       0.     ]\n",
      " [-0.9999   0.7019 ]\n",
      " [ 0.62171  0.791  ]\n",
      " [ 0.7019   0.89   ]\n",
      " [ 0.791    1.     ]\n",
      " [ 0.       0.     ]]\n",
      "Training complete!\n"
     ]
    }
   ],
   "source": [
    "#define training parameters\n",
    "epsilon = 0.9 #the percentage of time when we should take the best action (instead of a random action)\n",
    "discount_factor = 0.9 #discount factor for future rewards\n",
    "learning_rate = 0.9 #the rate at which the AI agent should learn\n",
    "\n",
    "#run through 1000 training episodes\n",
    "for episode in range(1000):\n",
    "  #get the starting location for this episode\n",
    "  player_index = 2\n",
    "\n",
    "  #continue taking actions (i.e., moving) until we reach a terminal state\n",
    "  while not is_terminal_state(player_index):\n",
    "    #choose which action to take (i.e., where to move next)\n",
    "    action_index = get_next_action(player_index, epsilon)\n",
    "\n",
    "    #perform the chosen action, and transition to the next state (i.e., move to the next location)\n",
    "    old_player_index = player_index #store the old row and column indexes\n",
    "    player_index = get_next_location(player_index, action_index)\n",
    "\n",
    "    #receive the reward for moving to the new state, and calculate the temporal difference\n",
    "    reward = rewards[player_index]\n",
    "    old_q_value = q_values[old_player_index, action_index]\n",
    "    temporal_difference = reward + (discount_factor * np.max(q_values[player_index])) - old_q_value\n",
    "\n",
    "    #update the Q-value for the previous state and action pair\n",
    "    new_q_value = old_q_value + (learning_rate * temporal_difference)\n",
    "    q_values[old_player_index, action_index] = new_q_value\n",
    "print(q_values)\n",
    "print('Training complete!')"
   ]
  },
  {
   "cell_type": "code",
   "execution_count": 23,
   "metadata": {
    "pycharm": {
     "name": "#%%\n"
    }
   },
   "outputs": [
    {
     "name": "stdout",
     "output_type": "stream",
     "text": [
      "[[2], [3], [4], [5]]\n"
     ]
    }
   ],
   "source": [
    "#example of location to test the behavior\n",
    "print(get_shortest_path(2))"
   ]
  },
  {
   "cell_type": "code",
   "execution_count": 24,
   "outputs": [
    {
     "data": {
      "text/plain": "<Figure size 432x288 with 2 Axes>",
      "image/png": "[encoded data removed]"
     },
     "metadata": {
      "needs_background": "light"
     },
     "output_type": "display_data"
    }
   ],
   "source": [
    "#plot the Q-values\n",
    "import matplotlib.pyplot as plt\n",
    "plt.imshow(q_values, cmap='hot', interpolation='nearest')\n",
    "plt.colorbar()\n",
    "plt.show()\n",
    "\n"
   ],
   "metadata": {
    "collapsed": false,
    "pycharm": {
     "name": "#%%\n"
    }
   }
  },
  {
   "cell_type": "code",
   "execution_count": 24,
   "outputs": [],
   "source": [],
   "metadata": {
    "collapsed": false,
    "pycharm": {
     "name": "#%%\n"
    }
   }
  },
  {
   "cell_type": "markdown",
   "metadata": {},
   "source": [
    "2D Toy example"
   ]
  },
  {
   "cell_type": "code",
   "execution_count": 25,
   "metadata": {
    "pycharm": {
     "name": "#%%\n"
    }
   },
   "outputs": [
    {
     "name": "stdout",
     "output_type": "stream",
     "text": [
      "[[[0. 0. 0. 0.]\n",
      "  [0. 0. 0. 0.]\n",
      "  [0. 0. 0. 0.]\n",
      "  [0. 0. 0. 0.]]\n",
      "\n",
      " [[0. 0. 0. 0.]\n",
      "  [0. 0. 0. 0.]\n",
      "  [0. 0. 0. 0.]\n",
      "  [0. 0. 0. 0.]]\n",
      "\n",
      " [[0. 0. 0. 0.]\n",
      "  [0. 0. 0. 0.]\n",
      "  [0. 0. 0. 0.]\n",
      "  [0. 0. 0. 0.]]]\n"
     ]
    }
   ],
   "source": [
    "#define the shape of the environment (i.e., its states)\n",
    "environment_rows = 3\n",
    "environment_columns = 4\n",
    "\n",
    "\n",
    "q_values = np.zeros((environment_rows, environment_columns, 4))\n",
    "\n",
    "print(q_values)"
   ]
  },
  {
   "cell_type": "code",
   "execution_count": 26,
   "metadata": {
    "pycharm": {
     "name": "#%%\n"
    }
   },
   "outputs": [],
   "source": [
    "#define actions\n",
    "#numeric action codes: 0 = up, 1 = right, 2 = down, 3 = left\n",
    "actions = ['up', 'right', 'down', 'left']"
   ]
  },
  {
   "cell_type": "code",
   "execution_count": 27,
   "metadata": {
    "pycharm": {
     "name": "#%%\n"
    }
   },
   "outputs": [
    {
     "name": "stdout",
     "output_type": "stream",
     "text": [
      "[[-0.04 -0.04 -0.04  1.  ]\n",
      " [-0.04 -1.   -0.04 -1.  ]\n",
      " [-0.04 -0.04 -0.04 -0.04]]\n"
     ]
    }
   ],
   "source": [
    "#Create a 2D numpy array to hold the rewards for each state.\n",
    "rewards = np.full((environment_rows, environment_columns), -0.04)\n",
    "rewards[0, 3] = 1. #set the reward for the goal (i.e., the goal) to 1\n",
    "rewards[1, 3] = -1. #set the reward for the trap to -1\n",
    "rewards[1,1] = -1. #set the reward for the block to -1\n",
    "\n",
    "#print rewards matrix\n",
    "print(rewards)"
   ]
  },
  {
   "cell_type": "code",
   "execution_count": 28,
   "metadata": {
    "pycharm": {
     "name": "#%%\n"
    }
   },
   "outputs": [],
   "source": [
    "#define a function that determines if the specified location is a terminal state\n",
    "def is_terminal_state(current_row_index, current_column_index):\n",
    "  if rewards[current_row_index, current_column_index] == -0.04:\n",
    "    return False\n",
    "  else:\n",
    "    return True\n",
    "\n",
    "\n",
    "def set_starting_location():\n",
    "  return 2, 0\n",
    "\n",
    "def get_next_action(current_row_index, current_column_index, epsilon):\n",
    "  if np.random.random() < epsilon:\n",
    "    return np.argmax(q_values[current_row_index, current_column_index])\n",
    "  else:\n",
    "    return np.random.randint(4)\n",
    "\n",
    "def get_next_location(current_row_index, current_column_index, action_index):\n",
    "  new_row_index = current_row_index\n",
    "  new_column_index = current_column_index\n",
    "  if actions[action_index] == 'up' and current_row_index > 0:\n",
    "    new_row_index -= 1\n",
    "  elif actions[action_index] == 'right' and current_column_index > 0:\n",
    "    new_column_index -= 1\n",
    "  elif actions[action_index] == 'down' and current_row_index < environment_rows - 1:\n",
    "    new_row_index += 1\n",
    "  elif actions[action_index] == 'left' and current_column_index < environment_columns - 1:\n",
    "    new_column_index += 1\n",
    "  return new_row_index, new_column_index\n",
    "\n",
    "\n",
    "def get_shortest_path(start_row_index, start_column_index):\n",
    "  if is_terminal_state(start_row_index, start_column_index):\n",
    "    return []\n",
    "  else:\n",
    "    current_row_index, current_column_index = start_row_index, start_column_index\n",
    "    shortest_path = []\n",
    "    shortest_path.append([current_row_index, current_column_index])\n",
    "    while not is_terminal_state(current_row_index, current_column_index):\n",
    "      action_index = get_next_action(current_row_index, current_column_index, 1.)\n",
    "      current_row_index, current_column_index = get_next_location(current_row_index, current_column_index, action_index)\n",
    "      shortest_path.append([current_row_index, current_column_index])\n",
    "    return shortest_path"
   ]
  },
  {
   "cell_type": "code",
   "execution_count": 29,
   "metadata": {
    "pycharm": {
     "name": "#%%\n"
    }
   },
   "outputs": [
    {
     "name": "stdout",
     "output_type": "stream",
     "text": [
      "[[[ 0.62059993  0.62059926  0.51791761  0.734     ]\n",
      "  [ 0.73399197  0.6206     -0.999       0.86      ]\n",
      "  [ 0.86        0.734       0.734       1.        ]\n",
      "  [ 0.          0.          0.          0.        ]]\n",
      "\n",
      " [[ 0.6206      0.51853936  0.42663102 -0.99999999]\n",
      "  [ 0.          0.          0.          0.        ]\n",
      "  [ 0.86       -1.          0.6206     -1.        ]\n",
      "  [ 0.          0.          0.          0.        ]]\n",
      "\n",
      " [[ 0.51854     0.426686    0.426686    0.51854   ]\n",
      "  [-1.          0.426686    0.51854     0.6206    ]\n",
      "  [ 0.734       0.51854     0.6206      0.51854   ]\n",
      "  [-0.9         0.6206      0.45411593 -0.12570016]]]\n",
      "Training complete!\n"
     ]
    }
   ],
   "source": [
    "#define training parameters\n",
    "epsilon = 0.9 #the percentage of time when we should take the best action (instead of a random action)\n",
    "discount_factor = 0.9 #discount factor for future rewards\n",
    "learning_rate = 0.9 #the rate at which the AI agent should learn\n",
    "\n",
    "#run through 1000 training episodes\n",
    "for episode in range(1000):\n",
    "  #get the starting location for this episode\n",
    "  row_index, column_index = set_starting_location()\n",
    "\n",
    "  #continue taking actions (i.e., moving) until we reach a terminal state\n",
    "  while not is_terminal_state(row_index, column_index):\n",
    "    #choose which action to take (i.e., where to move next)\n",
    "    action_index = get_next_action(row_index, column_index, epsilon)\n",
    "\n",
    "    #perform the chosen action, and transition to the next state (i.e., move to the next location)\n",
    "    old_row_index, old_column_index = row_index, column_index #store the old row and column indexes\n",
    "    row_index, column_index = get_next_location(row_index, column_index, action_index)\n",
    "\n",
    "    #receive the reward for moving to the new state, and calculate the temporal difference\n",
    "    reward = rewards[row_index, column_index]\n",
    "    old_q_value = q_values[old_row_index, old_column_index, action_index]\n",
    "    temporal_difference = reward + (discount_factor * np.max(q_values[row_index, column_index])) - old_q_value\n",
    "\n",
    "    #update the Q-value for the previous state and action pair\n",
    "    new_q_value = old_q_value + (learning_rate * temporal_difference)\n",
    "    q_values[old_row_index, old_column_index, action_index] = new_q_value\n",
    "print(q_values)\n",
    "print('Training complete!')"
   ]
  },
  {
   "cell_type": "code",
   "execution_count": 30,
   "metadata": {
    "pycharm": {
     "name": "#%%\n"
    }
   },
   "outputs": [
    {
     "name": "stdout",
     "output_type": "stream",
     "text": [
      "[[2, 0], [1, 0], [0, 0], [0, 1], [0, 2], [0, 3]]\n",
      "[[2, 3], [2, 2], [1, 2], [0, 2], [0, 3]]\n"
     ]
    }
   ],
   "source": [
    "#example of location to test the behavior\n",
    "print(get_shortest_path(2, 0))\n",
    "print(get_shortest_path(2, 3))"
   ]
  }
 ],
 "metadata": {
  "kernelspec": {
   "display_name": "Python 3 (ipykernel)",
   "language": "python",
   "name": "python3"
  },
  "language_info": {
   "codemirror_mode": {
    "name": "ipython",
    "version": 3
   },
   "file_extension": ".py",
   "mimetype": "text/x-python",
   "name": "python",
   "nbconvert_exporter": "python",
   "pygments_lexer": "ipython3",
   "version": "3.9.7"
  }
 },
 "nbformat": 4,
 "nbformat_minor": 1
}